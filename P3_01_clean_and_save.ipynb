{
 "cells": [
  {
   "cell_type": "markdown",
   "id": "79191f28",
   "metadata": {},
   "source": [
    "## This notebook is used to:\n",
    "####  -drop unwanted duplicates\n",
    "####  -drop incoherent or unwanted values\n",
    "#### - group the information of redundant columns in one column\n",
    "####  -drop columns under a certain percentage of completion\n",
    "####  -drop unused columns\n",
    "####  -save the modified dataset\n",
    "\n",
    "\n",
    "## The modified dataset is then used for plots and analysis.<br><br>"
   ]
  },
  {
   "cell_type": "code",
   "execution_count": 1,
   "id": "42a168e7",
   "metadata": {},
   "outputs": [],
   "source": [
    "import os\n",
    "import numpy as np\n",
    "import pandas as pd\n",
    "from matplotlib import pyplot as plt\n",
    "import seaborn as sns\n",
    "import missingno as msno\n",
    "\n",
    "import projet_functions_3 as pf"
   ]
  },
  {
   "cell_type": "code",
   "execution_count": 2,
   "id": "f57206c7",
   "metadata": {},
   "outputs": [
    {
     "name": "stderr",
     "output_type": "stream",
     "text": [
      "C:\\Users\\Vincent\\Anaconda3\\envs\\oc_projet_3\\lib\\site-packages\\IPython\\core\\interactiveshell.py:3524: DtypeWarning: Columns (0,3,5,19,20,24,25,26,27,28,35,36,37,38,39,48) have mixed types.Specify dtype option on import or set low_memory=False.\n",
      "  exec(code_obj, self.user_global_ns, self.user_ns)\n"
     ]
    },
    {
     "name": "stdout",
     "output_type": "stream",
     "text": [
      "(320772, 162)\n"
     ]
    }
   ],
   "source": [
    "data_path = 'D:/OpenClassrooms/projet_3/fr.openfoodfacts.org.products.csv'\n",
    "\n",
    "df = pd.read_csv(data_path, sep='\\t')\n",
    "print(df.shape)"
   ]
  },
  {
   "cell_type": "code",
   "execution_count": 3,
   "id": "0749ea0a",
   "metadata": {},
   "outputs": [],
   "source": [
    "# If test mode active, only a sample of the data is used to make calculations faster.\n",
    "# The sample also won't be saved at the end.\n",
    "\n",
    "test_mode = False"
   ]
  },
  {
   "cell_type": "code",
   "execution_count": 4,
   "id": "d474349d",
   "metadata": {},
   "outputs": [],
   "source": [
    "# for bigger plot\n",
    "scale_factor = 2\n",
    "default_size = [6.4, 4.8]\n",
    "plt.rcParams['figure.figsize'] = [n * scale_factor for n in default_size]"
   ]
  },
  {
   "cell_type": "code",
   "execution_count": 5,
   "id": "7970ed31",
   "metadata": {},
   "outputs": [
    {
     "name": "stdout",
     "output_type": "stream",
     "text": [
      "(320772, 162)\n"
     ]
    }
   ],
   "source": [
    "# reduce size of dataframe for testing phase\n",
    "\n",
    "nb_samples = 10000\n",
    "if test_mode:\n",
    "    df = df.sample(nb_samples)\n",
    "print(df.shape)"
   ]
  },
  {
   "cell_type": "markdown",
   "id": "e62de1dc",
   "metadata": {},
   "source": [
    "### Columns completion"
   ]
  },
  {
   "cell_type": "code",
   "execution_count": 6,
   "id": "03873a79",
   "metadata": {
    "scrolled": true
   },
   "outputs": [
    {
     "name": "stdout",
     "output_type": "stream",
     "text": [
      "(320772, 162) \n",
      "\n",
      "column_name : nb_values  (percentage_of_completion) \n",
      "\n",
      "\n",
      "code : 320749  (99%)\n",
      "\n",
      "url : 320749  (99%)\n",
      "\n",
      "creator : 320770  (99%)\n",
      "\n",
      "created_t : 320769  (99%)\n",
      "\n",
      "created_datetime : 320763  (99%)\n",
      "\n",
      "last_modified_t : 320772  (100%)\n",
      "\n",
      "last_modified_datetime : 320772  (100%)\n",
      "\n",
      "product_name : 303010  (94%)\n",
      "\n",
      "generic_name : 52795  (16%)\n",
      "\n",
      "quantity : 104819  (32%)\n",
      "\n",
      "packaging : 78960  (24%)\n",
      "\n",
      "packaging_tags : 78961  (24%)\n",
      "\n",
      "brands : 292360  (91%)\n",
      "\n",
      "brands_tags : 292352  (91%)\n",
      "\n",
      "categories : 84410  (26%)\n",
      "\n",
      "categories_tags : 84389  (26%)\n",
      "\n",
      "categories_fr : 84411  (26%)\n",
      "\n",
      "origins : 22190  (6%)\n",
      "\n",
      "origins_tags : 22153  (6%)\n",
      "\n",
      "manufacturing_places : 36501  (11%)\n",
      "\n",
      "manufacturing_places_tags : 36495  (11%)\n",
      "\n",
      "labels : 46559  (14%)\n",
      "\n",
      "labels_tags : 46644  (14%)\n",
      "\n",
      "labels_fr : 46666  (14%)\n",
      "\n",
      "emb_codes : 29306  (9%)\n",
      "\n",
      "emb_codes_tags : 29303  (9%)\n",
      "\n",
      "first_packaging_code_geo : 18803  (5%)\n",
      "\n",
      "cities : 23  (0%)\n",
      "\n",
      "cities_tags : 20320  (6%)\n",
      "\n",
      "purchase_places : 58193  (18%)\n",
      "\n",
      "stores : 51722  (16%)\n",
      "\n",
      "countries : 320492  (99%)\n",
      "\n",
      "countries_tags : 320492  (99%)\n",
      "\n",
      "countries_fr : 320492  (99%)\n",
      "\n",
      "ingredients_text : 248962  (77%)\n",
      "\n",
      "allergens : 28344  (8%)\n",
      "\n",
      "allergens_fr : 19  (0%)\n",
      "\n",
      "traces : 24353  (7%)\n",
      "\n",
      "traces_tags : 24329  (7%)\n",
      "\n",
      "traces_fr : 24352  (7%)\n",
      "\n",
      "serving_size : 211331  (65%)\n",
      "\n",
      "no_nutriments : 0  (0%)\n",
      "\n",
      "additives_n : 248939  (77%)\n",
      "\n",
      "additives : 248905  (77%)\n",
      "\n",
      "additives_tags : 154680  (48%)\n",
      "\n",
      "additives_fr : 154680  (48%)\n",
      "\n",
      "ingredients_from_palm_oil_n : 248939  (77%)\n",
      "\n",
      "ingredients_from_palm_oil : 0  (0%)\n",
      "\n",
      "ingredients_from_palm_oil_tags : 4835  (1%)\n",
      "\n",
      "ingredients_that_may_be_from_palm_oil_n : 248939  (77%)\n",
      "\n",
      "ingredients_that_may_be_from_palm_oil : 0  (0%)\n",
      "\n",
      "ingredients_that_may_be_from_palm_oil_tags : 11696  (3%)\n",
      "\n",
      "nutrition_grade_uk : 0  (0%)\n",
      "\n",
      "nutrition_grade_fr : 221210  (68%)\n",
      "\n",
      "pnns_groups_1 : 91513  (28%)\n",
      "\n",
      "pnns_groups_2 : 94491  (29%)\n",
      "\n",
      "states : 320726  (99%)\n",
      "\n",
      "states_tags : 320726  (99%)\n",
      "\n",
      "states_fr : 320726  (99%)\n",
      "\n",
      "main_category : 84366  (26%)\n",
      "\n",
      "main_category_fr : 84366  (26%)\n",
      "\n",
      "image_url : 75836  (23%)\n",
      "\n",
      "image_small_url : 75836  (23%)\n",
      "\n",
      "energy_100g : 261113  (81%)\n",
      "\n",
      "energy-from-fat_100g : 857  (0%)\n",
      "\n",
      "fat_100g : 243891  (76%)\n",
      "\n",
      "saturated-fat_100g : 229554  (71%)\n",
      "\n",
      "butyric-acid_100g : 0  (0%)\n",
      "\n",
      "caproic-acid_100g : 0  (0%)\n",
      "\n",
      "caprylic-acid_100g : 1  (0%)\n",
      "\n",
      "capric-acid_100g : 2  (0%)\n",
      "\n",
      "lauric-acid_100g : 4  (0%)\n",
      "\n",
      "myristic-acid_100g : 1  (0%)\n",
      "\n",
      "palmitic-acid_100g : 1  (0%)\n",
      "\n",
      "stearic-acid_100g : 1  (0%)\n",
      "\n",
      "arachidic-acid_100g : 24  (0%)\n",
      "\n",
      "behenic-acid_100g : 23  (0%)\n",
      "\n",
      "lignoceric-acid_100g : 0  (0%)\n",
      "\n",
      "cerotic-acid_100g : 0  (0%)\n",
      "\n",
      "montanic-acid_100g : 1  (0%)\n",
      "\n",
      "melissic-acid_100g : 0  (0%)\n",
      "\n",
      "monounsaturated-fat_100g : 22823  (7%)\n",
      "\n",
      "polyunsaturated-fat_100g : 22859  (7%)\n",
      "\n",
      "omega-3-fat_100g : 841  (0%)\n",
      "\n",
      "alpha-linolenic-acid_100g : 186  (0%)\n",
      "\n",
      "eicosapentaenoic-acid_100g : 38  (0%)\n",
      "\n",
      "docosahexaenoic-acid_100g : 78  (0%)\n",
      "\n",
      "omega-6-fat_100g : 188  (0%)\n",
      "\n",
      "linoleic-acid_100g : 149  (0%)\n",
      "\n",
      "arachidonic-acid_100g : 8  (0%)\n",
      "\n",
      "gamma-linolenic-acid_100g : 24  (0%)\n",
      "\n",
      "dihomo-gamma-linolenic-acid_100g : 23  (0%)\n",
      "\n",
      "omega-9-fat_100g : 21  (0%)\n",
      "\n",
      "oleic-acid_100g : 13  (0%)\n",
      "\n",
      "elaidic-acid_100g : 0  (0%)\n",
      "\n",
      "gondoic-acid_100g : 14  (0%)\n",
      "\n",
      "mead-acid_100g : 0  (0%)\n",
      "\n",
      "erucic-acid_100g : 0  (0%)\n",
      "\n",
      "nervonic-acid_100g : 0  (0%)\n",
      "\n",
      "trans-fat_100g : 143298  (44%)\n",
      "\n",
      "cholesterol_100g : 144090  (44%)\n",
      "\n",
      "carbohydrates_100g : 243588  (75%)\n",
      "\n",
      "sugars_100g : 244971  (76%)\n",
      "\n",
      "sucrose_100g : 72  (0%)\n",
      "\n",
      "glucose_100g : 26  (0%)\n",
      "\n",
      "fructose_100g : 38  (0%)\n",
      "\n",
      "lactose_100g : 262  (0%)\n",
      "\n",
      "maltose_100g : 4  (0%)\n",
      "\n",
      "maltodextrins_100g : 11  (0%)\n",
      "\n",
      "starch_100g : 266  (0%)\n",
      "\n",
      "polyols_100g : 414  (0%)\n",
      "\n",
      "fiber_100g : 200886  (62%)\n",
      "\n",
      "proteins_100g : 259922  (81%)\n",
      "\n",
      "casein_100g : 27  (0%)\n",
      "\n",
      "serum-proteins_100g : 16  (0%)\n",
      "\n",
      "nucleotides_100g : 9  (0%)\n",
      "\n",
      "salt_100g : 255510  (79%)\n",
      "\n",
      "sodium_100g : 255463  (79%)\n",
      "\n",
      "alcohol_100g : 4133  (1%)\n",
      "\n",
      "vitamin-a_100g : 137554  (42%)\n",
      "\n",
      "beta-carotene_100g : 34  (0%)\n",
      "\n",
      "vitamin-d_100g : 7057  (2%)\n",
      "\n",
      "vitamin-e_100g : 1340  (0%)\n",
      "\n",
      "vitamin-k_100g : 918  (0%)\n",
      "\n",
      "vitamin-c_100g : 140867  (43%)\n",
      "\n",
      "vitamin-b1_100g : 11154  (3%)\n",
      "\n",
      "vitamin-b2_100g : 10815  (3%)\n",
      "\n",
      "vitamin-pp_100g : 11729  (3%)\n",
      "\n",
      "vitamin-b6_100g : 6784  (2%)\n",
      "\n",
      "vitamin-b9_100g : 5240  (1%)\n",
      "\n",
      "folates_100g : 3042  (0%)\n",
      "\n",
      "vitamin-b12_100g : 5300  (1%)\n",
      "\n",
      "biotin_100g : 330  (0%)\n",
      "\n",
      "pantothenic-acid_100g : 2483  (0%)\n",
      "\n",
      "silica_100g : 38  (0%)\n",
      "\n",
      "bicarbonate_100g : 81  (0%)\n",
      "\n",
      "potassium_100g : 24748  (7%)\n",
      "\n",
      "chloride_100g : 158  (0%)\n",
      "\n",
      "calcium_100g : 141050  (43%)\n",
      "\n",
      "phosphorus_100g : 5845  (1%)\n",
      "\n",
      "iron_100g : 140462  (43%)\n",
      "\n",
      "magnesium_100g : 6253  (1%)\n",
      "\n",
      "zinc_100g : 3929  (1%)\n",
      "\n",
      "copper_100g : 2106  (0%)\n",
      "\n",
      "manganese_100g : 1620  (0%)\n",
      "\n",
      "fluoride_100g : 79  (0%)\n",
      "\n",
      "selenium_100g : 1168  (0%)\n",
      "\n",
      "chromium_100g : 20  (0%)\n",
      "\n",
      "molybdenum_100g : 11  (0%)\n",
      "\n",
      "iodine_100g : 259  (0%)\n",
      "\n",
      "caffeine_100g : 78  (0%)\n",
      "\n",
      "taurine_100g : 29  (0%)\n",
      "\n",
      "ph_100g : 49  (0%)\n",
      "\n",
      "fruits-vegetables-nuts_100g : 3036  (0%)\n",
      "\n",
      "collagen-meat-protein-ratio_100g : 165  (0%)\n",
      "\n",
      "cocoa_100g : 948  (0%)\n",
      "\n",
      "chlorophyl_100g : 0  (0%)\n",
      "\n",
      "carbon-footprint_100g : 268  (0%)\n",
      "\n",
      "nutrition-score-fr_100g : 221210  (68%)\n",
      "\n",
      "nutrition-score-uk_100g : 221210  (68%)\n",
      "\n",
      "glycemic-index_100g : 0  (0%)\n",
      "\n",
      "water-hardness_100g : 0  (0%)\n",
      "\n"
     ]
    }
   ],
   "source": [
    "print(df.shape, '\\n')\n",
    "\n",
    "# make dict with nb values and percentage completion of each column\n",
    "\n",
    "completion_dict = {}\n",
    "for column in df.columns:\n",
    "    nb_values = df[column].notna().sum()\n",
    "    percent = 100 * nb_values / df.shape[0]\n",
    "    completion_dict[column] = [nb_values, percent]\n",
    "\n",
    "    \n",
    "# shows percentage of completion for each column    \n",
    "\n",
    "print('column_name : nb_values  (percentage_of_completion)', '\\n\\n')\n",
    "for column in completion_dict:\n",
    "    nb_values = completion_dict[column][0]\n",
    "    percent = completion_dict[column][1]\n",
    "    print(f'{column} : {nb_values}  ({int(percent)}%)')\n",
    "    print()"
   ]
  },
  {
   "cell_type": "markdown",
   "id": "a3c0cf4f",
   "metadata": {},
   "source": [
    "### Drop unwanted duplicates"
   ]
  },
  {
   "cell_type": "code",
   "execution_count": 7,
   "id": "0b2d59c3",
   "metadata": {},
   "outputs": [
    {
     "name": "stdout",
     "output_type": "stream",
     "text": [
      "0\n"
     ]
    }
   ],
   "source": [
    "# no duplicate lines\n",
    "print(df.duplicated().sum())"
   ]
  },
  {
   "cell_type": "code",
   "execution_count": 8,
   "id": "5722e8d8",
   "metadata": {
    "scrolled": true
   },
   "outputs": [
    {
     "name": "stdout",
     "output_type": "stream",
     "text": [
      "code :\n",
      "nb_duplicates = 111\n",
      "\n",
      " exemples :\n",
      "[nan 16117 24600 31233 58001 9800800056 9800892204 11110676177 11110881373\n",
      " 11152021409]\n",
      "\n",
      "product_name :\n",
      "nb_duplicates = 81663\n",
      "\n",
      " exemples :\n",
      "[nan 'Peanuts' 'Biscuit' 'Muffin' 'Luxury Christmas Pudding'\n",
      " 'Magic Stars Chocolates' 'Solid Milk Chocolate'\n",
      " 'The Madelaine Chocolate Company, Solid Milk Chocolate'\n",
      " 'The Madelaine Chocolate Company, Solid Dark Chocolate'\n",
      " 'Solid Dark Chocolate']\n",
      "\n",
      "generic_name :\n",
      "nb_duplicates = 14211\n",
      "\n",
      " exemples :\n",
      "[nan 'Sliced Bread' 'A low glycemic sweetener'\n",
      " 'Chocolate Chunk Crispy Cookies' 'Mayonnaise' 'Real Mayonnaise'\n",
      " 'Crème de marrons' 'Baked Snack Crackers' 'apple juice'\n",
      " 'Sweetened corn & oat cereal']\n",
      "\n",
      "url :\n",
      "nb_duplicates = 0\n",
      "\n",
      "image_url :\n",
      "nb_duplicates = 0\n",
      "\n",
      "image_small_url :\n",
      "nb_duplicates = 0\n",
      "\n"
     ]
    }
   ],
   "source": [
    "# columns that should probably only have unique values\n",
    "\n",
    "columns_to_test = ['code', \n",
    "                   'product_name', \n",
    "                   'generic_name', \n",
    "                   'url', \n",
    "                   'image_url', \n",
    "                   'image_small_url'\n",
    "                  ]\n",
    "\n",
    "nb_exemples = 10\n",
    "for column in columns_to_test:\n",
    "    duplicates = df[column].where(df[column].duplicated()).unique()\n",
    "    nb_duplicates = df[column].dropna().duplicated().sum()\n",
    "    print(column, ':')\n",
    "    print('nb_duplicates =', nb_duplicates)\n",
    "    if nb_duplicates and nb_exemples:\n",
    "        print('\\n', 'exemples :')\n",
    "        print(duplicates[:nb_exemples])\n",
    "    print()"
   ]
  },
  {
   "cell_type": "markdown",
   "id": "d9a12488",
   "metadata": {},
   "source": [
    "The duplicates in 'product_name' and 'generic_name' all seem to be broad names, not actual duplicated rows. <br>\n",
    "So keep them but drop other duplicates."
   ]
  },
  {
   "cell_type": "code",
   "execution_count": 9,
   "id": "996ff306",
   "metadata": {},
   "outputs": [
    {
     "name": "stdout",
     "output_type": "stream",
     "text": [
      "(320772, 162)\n",
      "(320639, 162)\n"
     ]
    }
   ],
   "source": [
    "# drop duplicates from 'code'\n",
    "print(df.shape)\n",
    "df = df.drop_duplicates(subset='code')\n",
    "print(df.shape)"
   ]
  },
  {
   "cell_type": "markdown",
   "id": "cb4611ab",
   "metadata": {},
   "source": [
    "### Clean specific columns"
   ]
  },
  {
   "cell_type": "markdown",
   "id": "76fbaf4b",
   "metadata": {},
   "source": [
    "#### Brands"
   ]
  },
  {
   "cell_type": "code",
   "execution_count": 10,
   "id": "26d6b43e",
   "metadata": {},
   "outputs": [
    {
     "name": "stdout",
     "output_type": "stream",
     "text": [
      "0    Ferme t'y R'nao\n",
      "1                NaN\n",
      "2     Torn & Glasser\n",
      "3          Grizzlies\n",
      "4     Bob's Red Mill\n",
      "Name: brands, dtype: object\n",
      "\n",
      "\n",
      "\n",
      "0    ferme-t-y-r-nao\n",
      "1                NaN\n",
      "2       torn-glasser\n",
      "3          grizzlies\n",
      "4     bob-s-red-mill\n",
      "Name: brands_tags, dtype: object\n",
      "\n",
      "\n",
      "\n"
     ]
    }
   ],
   "source": [
    "columns = ['brands', \n",
    "           'brands_tags'\n",
    "          ]\n",
    "\n",
    "for column in columns:\n",
    "    print(df[column].head())\n",
    "    print('\\n'*2)"
   ]
  },
  {
   "cell_type": "code",
   "execution_count": 11,
   "id": "8b5e72e4",
   "metadata": {},
   "outputs": [],
   "source": [
    "# brands columns are redundant, 'brands' is the clearest column.\n",
    "# So complete 'brands' with 'brands_tags' and drop 'brands_tags'.\n",
    "\n",
    "df['brands'][df['brands'].isna()] = df['brands_tags']\n",
    "df = df.drop(['brands_tags'], axis=1)"
   ]
  },
  {
   "cell_type": "markdown",
   "id": "905403fb",
   "metadata": {},
   "source": [
    "#### Additives"
   ]
  },
  {
   "cell_type": "markdown",
   "id": "32d11ff0",
   "metadata": {},
   "source": [
    "The next 3 cells make a new column 'additives' where values are formated as python lists."
   ]
  },
  {
   "cell_type": "code",
   "execution_count": 12,
   "id": "605f0b3c",
   "metadata": {
    "scrolled": true
   },
   "outputs": [
    {
     "name": "stdout",
     "output_type": "stream",
     "text": [
      "7            en:e123,en:e307a\n",
      "12                    en:e100\n",
      "21                    en:e322\n",
      "23         en:e339iii,en:e330\n",
      "24    en:e170,en:e322,en:e410\n",
      "Name: additives_tags, dtype: object\n",
      "\n",
      "7          [e123, e307a]\n",
      "12                [e100]\n",
      "21                [e322]\n",
      "23       [e339iii, e330]\n",
      "24    [e170, e322, e410]\n",
      "Name: additives_tags, dtype: object\n"
     ]
    }
   ],
   "source": [
    "# 'additives_tags'\n",
    "# values are like this: 'fr:e113' or 'en:e113'\n",
    "# I want: 'e113'\n",
    "\n",
    "def for_additives_tags(value):\n",
    "    index = 3\n",
    "    \n",
    "    try:\n",
    "        str_list = value.split(',')\n",
    "        new_value = [part[index:] for part in str_list]\n",
    "        return new_value\n",
    "    except:\n",
    "        return np.nan\n",
    "\n",
    "\n",
    "additives_1 = df['additives_tags'].apply(for_additives_tags)\n",
    "\n",
    "print(df['additives_tags'].dropna().head())\n",
    "print()\n",
    "print(additives_1.dropna().head())"
   ]
  },
  {
   "cell_type": "code",
   "execution_count": 13,
   "id": "b5abf93e",
   "metadata": {},
   "outputs": [
    {
     "name": "stdout",
     "output_type": "stream",
     "text": [
      "7                    E123 - Amarante,E307a - Tocophérol\n",
      "12                                     E100 - Curcumine\n",
      "21                                    E322 - Lécithines\n",
      "23    E339iii - Phosphate de sodium tribasique,E330 ...\n",
      "24    E170 - Carbonate de calcium,E322 - Lécithines,...\n",
      "Name: additives_fr, dtype: object\n",
      "\n",
      "7          [e123, e307a]\n",
      "12                [e100]\n",
      "21                [e322]\n",
      "23       [e339iii, e330]\n",
      "24    [e170, e322, e410]\n",
      "Name: additives_fr, dtype: object\n"
     ]
    }
   ],
   "source": [
    "# 'additives_fr'\n",
    "# values are like this: 'E113 - name_of_additive' or 'E113'\n",
    "# I want: 'e113'\n",
    "\n",
    "def for_additives_fr(value):\n",
    "    str_list = []\n",
    "    new_value = []\n",
    "    try:\n",
    "        str_list = value.split(',')\n",
    "        for part in str_list:\n",
    "            index = part.index('-') - 1\n",
    "            new_value.append(part[:index].lower())\n",
    "        return new_value\n",
    "    except:\n",
    "        return np.nan\n",
    "\n",
    "    \n",
    "additives_2 = df['additives_fr'].apply(for_additives_fr)\n",
    "\n",
    "print(df['additives_fr'].dropna().head())\n",
    "print()\n",
    "print(additives_2.dropna().head())"
   ]
  },
  {
   "cell_type": "code",
   "execution_count": 14,
   "id": "900f9ab6",
   "metadata": {},
   "outputs": [
    {
     "name": "stdout",
     "output_type": "stream",
     "text": [
      "0\n"
     ]
    }
   ],
   "source": [
    "# check if 'additives_1' and 'additives_2' concur\n",
    "\n",
    "res = additives_1.notna() & additives_2.notna()\n",
    "print((additives_1[res] != additives_2[res]).sum())"
   ]
  },
  {
   "cell_type": "code",
   "execution_count": 15,
   "id": "8b7e88ab",
   "metadata": {
    "scrolled": true
   },
   "outputs": [
    {
     "name": "stderr",
     "output_type": "stream",
     "text": [
      "C:\\Users\\Vincent\\Anaconda3\\envs\\oc_projet_3\\lib\\site-packages\\ipykernel_launcher.py:4: SettingWithCopyWarning: \n",
      "A value is trying to be set on a copy of a slice from a DataFrame\n",
      "\n",
      "See the caveats in the documentation: https://pandas.pydata.org/pandas-docs/stable/user_guide/indexing.html#returning-a-view-versus-a-copy\n",
      "  after removing the cwd from sys.path.\n"
     ]
    }
   ],
   "source": [
    "# combine 'additives_1' and 'additives_2' in a new column and add it to the dataframe\n",
    "\n",
    "df['additives'] = additives_1\n",
    "df['additives'][df['additives'].isna()] = additives_2"
   ]
  },
  {
   "cell_type": "code",
   "execution_count": 16,
   "id": "2e77c74e",
   "metadata": {},
   "outputs": [
    {
     "name": "stdout",
     "output_type": "stream",
     "text": [
      "0\n"
     ]
    },
    {
     "name": "stderr",
     "output_type": "stream",
     "text": [
      "C:\\Users\\Vincent\\Anaconda3\\envs\\oc_projet_3\\lib\\site-packages\\ipykernel_launcher.py:12: SettingWithCopyWarning: \n",
      "A value is trying to be set on a copy of a slice from a DataFrame\n",
      "\n",
      "See the caveats in the documentation: https://pandas.pydata.org/pandas-docs/stable/user_guide/indexing.html#returning-a-view-versus-a-copy\n",
      "  if sys.path[0] == '':\n"
     ]
    }
   ],
   "source": [
    "# complete 'additives_n' and\n",
    "# check if 'additives' and 'additives_n' concur\n",
    "\n",
    "def get_lens(value):\n",
    "    try:\n",
    "        return len(value)\n",
    "    except:\n",
    "        return 0\n",
    "\n",
    "    \n",
    "len_additives = df['additives'].apply(get_lens)\n",
    "df['additives_n'][df['additives_n'].isna()] = len_additives\n",
    "print((len_additives != df['additives_n']).sum())"
   ]
  },
  {
   "cell_type": "code",
   "execution_count": 17,
   "id": "b8053c63",
   "metadata": {},
   "outputs": [],
   "source": [
    "# drop original columns\n",
    "df = df.drop(['additives_tags', 'additives_fr'], axis=1)"
   ]
  },
  {
   "cell_type": "markdown",
   "id": "272b3c31",
   "metadata": {},
   "source": [
    "#### Countries"
   ]
  },
  {
   "cell_type": "code",
   "execution_count": 18,
   "id": "ed2d35a6",
   "metadata": {
    "scrolled": false
   },
   "outputs": [
    {
     "name": "stdout",
     "output_type": "stream",
     "text": [
      "--------------------\n",
      "countries\n",
      "-------------------- \n",
      "\n",
      "unique values : 1428\n",
      "duplicates :    319211\n"
     ]
    },
    {
     "data": {
      "image/png": "[encoded data removed]",
      "text/plain": [
       "<Figure size 1382.4x1036.8 with 1 Axes>"
      ]
     },
     "metadata": {
      "needs_background": "light"
     },
     "output_type": "display_data"
    },
    {
     "name": "stdout",
     "output_type": "stream",
     "text": [
      "\n",
      "nb of index 'United Kingdom': 3246\n",
      "\n",
      "\n",
      "\n",
      "--------------------\n",
      "countries_tags\n",
      "-------------------- \n",
      "\n",
      "unique values : 720\n",
      "duplicates :    319919\n"
     ]
    },
    {
     "data": {
      "image/png": "[encoded data removed]",
      "text/plain": [
       "<Figure size 1382.4x1036.8 with 1 Axes>"
      ]
     },
     "metadata": {
      "needs_background": "light"
     },
     "output_type": "display_data"
    },
    {
     "name": "stdout",
     "output_type": "stream",
     "text": [
      "\n",
      "nb of index 'en:united-kingdom': 4824\n",
      "\n",
      "\n",
      "\n",
      "--------------------\n",
      "countries_fr\n",
      "-------------------- \n",
      "\n",
      "unique values : 718\n",
      "duplicates :    319921\n"
     ]
    },
    {
     "data": {
      "image/png": "[encoded data removed]",
      "text/plain": [
       "<Figure size 1382.4x1036.8 with 1 Axes>"
      ]
     },
     "metadata": {
      "needs_background": "light"
     },
     "output_type": "display_data"
    },
    {
     "name": "stdout",
     "output_type": "stream",
     "text": [
      "\n",
      "nb of index 'Royaume-Uni': 4824\n",
      "\n",
      "\n",
      "\n"
     ]
    }
   ],
   "source": [
    "columns = ['countries', \n",
    "           'countries_tags', \n",
    "           'countries_fr'\n",
    "          ]\n",
    "\n",
    "for column in columns:\n",
    "    pf.plot_nominal_column(column, df, percentage_limit=1)\n",
    "    print('\\n'*2)"
   ]
  },
  {
   "cell_type": "markdown",
   "id": "70f472fc",
   "metadata": {},
   "source": [
    "Best column is 'countries_fr' (less uniques values than 'countries' and simpler formating than 'countries_tags')"
   ]
  },
  {
   "cell_type": "code",
   "execution_count": 19,
   "id": "c8f14fc4",
   "metadata": {},
   "outputs": [],
   "source": [
    "df = df.drop(['countries', 'countries_tags'], axis=1)"
   ]
  },
  {
   "cell_type": "markdown",
   "id": "8d3cfc3e",
   "metadata": {},
   "source": [
    "#### Nutri-grade"
   ]
  },
  {
   "cell_type": "code",
   "execution_count": 20,
   "id": "378eb95d",
   "metadata": {},
   "outputs": [
    {
     "name": "stdout",
     "output_type": "stream",
     "text": [
      "['a', 'b', 'c', 'd', 'e']\n"
     ]
    }
   ],
   "source": [
    "# nutri-grade should be in (a, b, c, d, e)\n",
    "\n",
    "values = list(df['nutrition_grade_fr'].dropna().unique())\n",
    "print(sorted(values))"
   ]
  },
  {
   "cell_type": "markdown",
   "id": "23099538",
   "metadata": {},
   "source": [
    "#### Nutri-score (fr and uk)"
   ]
  },
  {
   "cell_type": "code",
   "execution_count": 21,
   "id": "593cd7d1",
   "metadata": {},
   "outputs": [
    {
     "data": {
      "text/plain": [
       "count    221147.000000\n",
       "mean          9.165365\n",
       "std           9.056116\n",
       "min         -15.000000\n",
       "25%           1.000000\n",
       "50%          10.000000\n",
       "75%          16.000000\n",
       "max          40.000000\n",
       "Name: nutrition-score-fr_100g, dtype: float64"
      ]
     },
     "execution_count": 21,
     "metadata": {},
     "output_type": "execute_result"
    }
   ],
   "source": [
    "# nutrition score should be between -15 and 40\n",
    "df['nutrition-score-fr_100g'].describe()"
   ]
  },
  {
   "cell_type": "code",
   "execution_count": 22,
   "id": "cc8a6306",
   "metadata": {},
   "outputs": [
    {
     "data": {
      "text/plain": [
       "count    221147.000000\n",
       "mean          9.057903\n",
       "std           9.183827\n",
       "min         -15.000000\n",
       "25%           1.000000\n",
       "50%           9.000000\n",
       "75%          16.000000\n",
       "max          40.000000\n",
       "Name: nutrition-score-uk_100g, dtype: float64"
      ]
     },
     "execution_count": 22,
     "metadata": {},
     "output_type": "execute_result"
    }
   ],
   "source": [
    "df['nutrition-score-uk_100g'].describe()"
   ]
  },
  {
   "cell_type": "code",
   "execution_count": 23,
   "id": "16d097f7",
   "metadata": {},
   "outputs": [
    {
     "name": "stdout",
     "output_type": "stream",
     "text": [
      "corr = 0.98622102663164\n"
     ]
    }
   ],
   "source": [
    "nutri_scores = ['nutrition-score-uk_100g', 'nutrition-score-fr_100g']\n",
    "corr = pf.correlation_matrix(nutri_scores, df, print_result=False)\n",
    "print('corr =', corr['nutrition-score-uk_100g']['nutrition-score-fr_100g'])"
   ]
  },
  {
   "cell_type": "code",
   "execution_count": 24,
   "id": "a83d865b",
   "metadata": {},
   "outputs": [],
   "source": [
    "# nutri-score formula is from uk, the french one uses a derived formula\n",
    "# keep the french version because we only have the french nutri-grade\n",
    "\n",
    "df = df.drop('nutrition-score-uk_100g', axis=1)"
   ]
  },
  {
   "cell_type": "markdown",
   "id": "d1e0eaa7",
   "metadata": {},
   "source": [
    "#### Salt and sodium"
   ]
  },
  {
   "cell_type": "code",
   "execution_count": 25,
   "id": "802f1efe",
   "metadata": {},
   "outputs": [
    {
     "name": "stdout",
     "output_type": "stream",
     "text": [
      "0.9999999999452398\n"
     ]
    }
   ],
   "source": [
    "corr = pf.correlation_matrix(['salt_100g', 'sodium_100g'], df, print_result=False)\n",
    "print(corr['salt_100g']['sodium_100g'])"
   ]
  },
  {
   "cell_type": "code",
   "execution_count": 26,
   "id": "dd03a06b",
   "metadata": {},
   "outputs": [
    {
     "name": "stdout",
     "output_type": "stream",
     "text": [
      "0.0\n"
     ]
    }
   ],
   "source": [
    "# Almost perfect correlation, so 'sodium_100g' column is redundant.\n",
    "# Use it to complete 'salt_100g' and drop it\n",
    "\n",
    "is_nan = df['salt_100g'].isna()\n",
    "print(df['sodium_100g'][is_nan].sum())\n",
    "\n",
    "# no values from 'sodium' to complete the NaNs in 'salt', so drop 'sodium'\n",
    "df = df.drop('sodium_100g', axis=1)"
   ]
  },
  {
   "cell_type": "markdown",
   "id": "1903c22d",
   "metadata": {},
   "source": [
    "#### Energy"
   ]
  },
  {
   "cell_type": "code",
   "execution_count": 27,
   "id": "c070554c",
   "metadata": {},
   "outputs": [
    {
     "name": "stdout",
     "output_type": "stream",
     "text": [
      "3765.6000000000004 \n",
      "\n"
     ]
    }
   ],
   "source": [
    "# determine max value for energy in 100g\n",
    "\n",
    "Kcal_fat_1g = 9\n",
    "J_per_cal = 4.184\n",
    "\n",
    "Kcal_fat_100g = Kcal_fat_1g * 100\n",
    "KJ_fat_100g = Kcal_fat_100g * J_per_cal\n",
    "\n",
    "max_energy_value = KJ_fat_100g\n",
    "print(max_energy_value, '\\n')"
   ]
  },
  {
   "cell_type": "code",
   "execution_count": 28,
   "id": "6672d1e9",
   "metadata": {},
   "outputs": [
    {
     "name": "stdout",
     "output_type": "stream",
     "text": [
      "554\n"
     ]
    },
    {
     "name": "stderr",
     "output_type": "stream",
     "text": [
      "C:\\Users\\Vincent\\Anaconda3\\envs\\oc_projet_3\\lib\\site-packages\\ipykernel_launcher.py:5: SettingWithCopyWarning: \n",
      "A value is trying to be set on a copy of a slice from a DataFrame\n",
      "\n",
      "See the caveats in the documentation: https://pandas.pydata.org/pandas-docs/stable/user_guide/indexing.html#returning-a-view-versus-a-copy\n",
      "  \"\"\"\n"
     ]
    }
   ],
   "source": [
    "# use it to clean 'energy_100g'\n",
    "\n",
    "column = 'energy_100g'\n",
    "anomaly = (df[column] > max_energy_value)\n",
    "df['energy_100g'][anomaly] = np.nan\n",
    "print(anomaly.sum())"
   ]
  },
  {
   "cell_type": "markdown",
   "id": "a038361b",
   "metadata": {},
   "source": [
    "### Column groups"
   ]
  },
  {
   "cell_type": "markdown",
   "id": "ac2fe9a5",
   "metadata": {},
   "source": [
    "#### Check negative values"
   ]
  },
  {
   "cell_type": "code",
   "execution_count": 29,
   "id": "f465bf65",
   "metadata": {},
   "outputs": [
    {
     "name": "stderr",
     "output_type": "stream",
     "text": [
      "C:\\Users\\Vincent\\Anaconda3\\envs\\oc_projet_3\\lib\\site-packages\\ipykernel_launcher.py:45: SettingWithCopyWarning: \n",
      "A value is trying to be set on a copy of a slice from a DataFrame\n",
      "\n",
      "See the caveats in the documentation: https://pandas.pydata.org/pandas-docs/stable/user_guide/indexing.html#returning-a-view-versus-a-copy\n"
     ]
    }
   ],
   "source": [
    "quantitative_columns = ['additives_n', \n",
    "                        'ingredients_from_palm_oil_n', \n",
    "                        'ingredients_that_may_be_from_palm_oil_n', \n",
    "                        'energy_100g', \n",
    "                        'fat_100g', \n",
    "                        'saturated-fat_100g', \n",
    "                        'monounsaturated-fat_100g', \n",
    "                        'polyunsaturated-fat_100g', \n",
    "                        'trans-fat_100g', \n",
    "                        'cholesterol_100g', \n",
    "                        'carbohydrates_100g', \n",
    "                        'sugars_100g', \n",
    "                        'fiber_100g', \n",
    "                        'proteins_100g', \n",
    "                        'salt_100g', \n",
    "                        'alcohol_100g', \n",
    "                        'vitamin-a_100g', \n",
    "                        'vitamin-c_100g', \n",
    "                        'vitamin-d_100g', \n",
    "                        'vitamin-b1_100g', \n",
    "                        'vitamin-b2_100g', \n",
    "                        'vitamin-b6_100g', \n",
    "                        'vitamin-b9_100g', \n",
    "                        'vitamin-b12_100g', \n",
    "                        'vitamin-pp_100g', \n",
    "                        'potassium_100g', \n",
    "                        'calcium_100g', \n",
    "                        'phosphorus_100g', \n",
    "                        'iron_100g', \n",
    "                        'magnesium_100g', \n",
    "                        'zinc_100g', \n",
    "                        'nutrition-score-fr_100g', \n",
    "                        'nutrition-score-uk_100g', \n",
    "                       ]\n",
    "\n",
    "\n",
    "# check negative values (except for nutri-score)\n",
    "\n",
    "for column in quantitative_columns:\n",
    "    if column in ['nutrition-score-fr_100g', 'nutrition-score-uk_100g']:\n",
    "        continue\n",
    "    \n",
    "    original = df[column].count()\n",
    "    negatives = (df[column] < 0)\n",
    "    df[column][negatives] = np.nan\n",
    "    new = df[column].count()\n",
    "    \n",
    "    res = new - original\n",
    "    if res > 0:\n",
    "        print(column, ':', res)"
   ]
  },
  {
   "cell_type": "markdown",
   "id": "7fe44409",
   "metadata": {},
   "source": [
    "#### Check for values over 100"
   ]
  },
  {
   "cell_type": "code",
   "execution_count": 30,
   "id": "06c47f8a",
   "metadata": {},
   "outputs": [
    {
     "name": "stderr",
     "output_type": "stream",
     "text": [
      "C:\\Users\\Vincent\\Anaconda3\\envs\\oc_projet_3\\lib\\site-packages\\ipykernel_launcher.py:21: SettingWithCopyWarning: \n",
      "A value is trying to be set on a copy of a slice from a DataFrame\n",
      "\n",
      "See the caveats in the documentation: https://pandas.pydata.org/pandas-docs/stable/user_guide/indexing.html#returning-a-view-versus-a-copy\n"
     ]
    },
    {
     "name": "stdout",
     "output_type": "stream",
     "text": [
      "fat_100g : 4\n",
      "saturated-fat_100g : 3\n",
      "monounsaturated-fat_100g : 1\n",
      "polyunsaturated-fat_100g : 0\n",
      "trans-fat_100g : 5\n",
      "cholesterol_100g : 0\n",
      "carbohydrates_100g : 19\n",
      "sugars_100g : 12\n",
      "fiber_100g : 4\n",
      "proteins_100g : 1\n",
      "salt_100g : 158\n",
      "alcohol_100g : 0\n"
     ]
    }
   ],
   "source": [
    "max_value = 100\n",
    "\n",
    "max_100_columns = ['fat_100g', \n",
    "                   'saturated-fat_100g', \n",
    "                   'monounsaturated-fat_100g', \n",
    "                   'polyunsaturated-fat_100g', \n",
    "                   'trans-fat_100g', \n",
    "                   'cholesterol_100g', \n",
    "                   'carbohydrates_100g', \n",
    "                   'sugars_100g', \n",
    "                   'fiber_100g', \n",
    "                   'proteins_100g', \n",
    "                   'salt_100g', \n",
    "                   'alcohol_100g', \n",
    "                  ]\n",
    "\n",
    "\n",
    "for column in max_100_columns:\n",
    "    anomaly = (df[column] > max_value)\n",
    "    print(column, ':', anomaly.sum())\n",
    "    df[column][anomaly] = np.nan"
   ]
  },
  {
   "cell_type": "markdown",
   "id": "60e5a782",
   "metadata": {},
   "source": [
    "#### In column_groups, check if sum is over a certain value"
   ]
  },
  {
   "cell_type": "code",
   "execution_count": 31,
   "id": "c425fec0",
   "metadata": {},
   "outputs": [
    {
     "name": "stdout",
     "output_type": "stream",
     "text": [
      "4481\n"
     ]
    },
    {
     "name": "stderr",
     "output_type": "stream",
     "text": [
      "C:\\Users\\Vincent\\Anaconda3\\envs\\oc_projet_3\\lib\\site-packages\\ipykernel_launcher.py:18: SettingWithCopyWarning: \n",
      "A value is trying to be set on a copy of a slice from a DataFrame.\n",
      "Try using .loc[row_indexer,col_indexer] = value instead\n",
      "\n",
      "See the caveats in the documentation: https://pandas.pydata.org/pandas-docs/stable/user_guide/indexing.html#returning-a-view-versus-a-copy\n",
      "C:\\Users\\Vincent\\Anaconda3\\envs\\oc_projet_3\\lib\\site-packages\\pandas\\core\\indexing.py:1732: SettingWithCopyWarning: \n",
      "A value is trying to be set on a copy of a slice from a DataFrame\n",
      "\n",
      "See the caveats in the documentation: https://pandas.pydata.org/pandas-docs/stable/user_guide/indexing.html#returning-a-view-versus-a-copy\n",
      "  self._setitem_single_block(indexer, value, name)\n",
      "C:\\Users\\Vincent\\Anaconda3\\envs\\oc_projet_3\\lib\\site-packages\\pandas\\core\\indexing.py:723: SettingWithCopyWarning: \n",
      "A value is trying to be set on a copy of a slice from a DataFrame\n",
      "\n",
      "See the caveats in the documentation: https://pandas.pydata.org/pandas-docs/stable/user_guide/indexing.html#returning-a-view-versus-a-copy\n",
      "  iloc._setitem_with_indexer(indexer, value, self.name)\n"
     ]
    }
   ],
   "source": [
    "max_sum_value = 100\n",
    "\n",
    "column_group = ['fat_100g',\n",
    "                'carbohydrates_100g',\n",
    "                'proteins_100g',\n",
    "                'salt_100g'\n",
    "               ]\n",
    "\n",
    "total = df[column_group].sum(axis=1)\n",
    "anomaly = (total > max_sum_value)\n",
    "print(anomaly.sum())\n",
    "\n",
    "nb_exemples = 5\n",
    "df[column_group][anomaly].head(nb_exemples)\n",
    "\n",
    "# We don't know which values are false.\n",
    "# There isn't a lot of problematic rows so drop all values\n",
    "df[column_group][anomaly] = np.nan"
   ]
  },
  {
   "cell_type": "code",
   "execution_count": 32,
   "id": "8d8c77bc",
   "metadata": {},
   "outputs": [
    {
     "name": "stdout",
     "output_type": "stream",
     "text": [
      "sugars_100g : 683 \n",
      "\n",
      "      carbohydrates_100g  sugars_100g\n",
      "379                72.50        75.00\n",
      "1509                3.57         7.14\n",
      "1510                3.57         7.14\n",
      "1511                3.57         7.14\n",
      "2079                5.71         6.12\n",
      "\n",
      "\n"
     ]
    },
    {
     "name": "stderr",
     "output_type": "stream",
     "text": [
      "C:\\Users\\Vincent\\Anaconda3\\envs\\oc_projet_3\\lib\\site-packages\\ipykernel_launcher.py:10: SettingWithCopyWarning: \n",
      "A value is trying to be set on a copy of a slice from a DataFrame\n",
      "\n",
      "See the caveats in the documentation: https://pandas.pydata.org/pandas-docs/stable/user_guide/indexing.html#returning-a-view-versus-a-copy\n",
      "  # Remove the CWD from sys.path while we load stuff.\n"
     ]
    }
   ],
   "source": [
    "general_column = 'carbohydrates_100g'\n",
    "\n",
    "partial_column = 'sugars_100g'\n",
    "\n",
    "anomaly = (df[partial_column] > df[general_column])\n",
    "print(partial_column, ':', anomaly.sum(), '\\n')\n",
    "if anomaly.sum():\n",
    "    print(df[[general_column, partial_column]][anomaly].head(nb_exemples))\n",
    "    print('\\n')\n",
    "    df[column][anomaly] = np.nan"
   ]
  },
  {
   "cell_type": "code",
   "execution_count": 33,
   "id": "763db6c0",
   "metadata": {},
   "outputs": [
    {
     "name": "stdout",
     "output_type": "stream",
     "text": [
      "saturated-fat_100g : 353 \n",
      "\n",
      "      fat_100g  saturated-fat_100g\n",
      "2322      0.00                1.25\n",
      "3450      1.31                1.62\n",
      "5839      9.21               21.05\n",
      "5840      9.21               21.05\n",
      "6320      1.79                5.36\n",
      "\n",
      "\n",
      "monounsaturated-fat_100g : 17 \n",
      "\n",
      "       fat_100g  monounsaturated-fat_100g\n",
      "30416      0.00                      1.76\n",
      "36014      0.00                      2.65\n",
      "36016      0.00                      2.65\n",
      "46580     10.00                     16.67\n",
      "58179      0.03                      0.08\n",
      "\n",
      "\n",
      "polyunsaturated-fat_100g : 26 \n",
      "\n",
      "       fat_100g  polyunsaturated-fat_100g\n",
      "6633       0.00                     66.67\n",
      "21215      0.00                     50.00\n",
      "51016      8.93                     25.00\n",
      "51017      8.93                     25.00\n",
      "75555      3.91                      4.69\n",
      "\n",
      "\n"
     ]
    },
    {
     "name": "stderr",
     "output_type": "stream",
     "text": [
      "C:\\Users\\Vincent\\Anaconda3\\envs\\oc_projet_3\\lib\\site-packages\\ipykernel_launcher.py:14: SettingWithCopyWarning: \n",
      "A value is trying to be set on a copy of a slice from a DataFrame\n",
      "\n",
      "See the caveats in the documentation: https://pandas.pydata.org/pandas-docs/stable/user_guide/indexing.html#returning-a-view-versus-a-copy\n",
      "  \n",
      "C:\\Users\\Vincent\\Anaconda3\\envs\\oc_projet_3\\lib\\site-packages\\ipykernel_launcher.py:14: SettingWithCopyWarning: \n",
      "A value is trying to be set on a copy of a slice from a DataFrame\n",
      "\n",
      "See the caveats in the documentation: https://pandas.pydata.org/pandas-docs/stable/user_guide/indexing.html#returning-a-view-versus-a-copy\n",
      "  \n",
      "C:\\Users\\Vincent\\Anaconda3\\envs\\oc_projet_3\\lib\\site-packages\\ipykernel_launcher.py:14: SettingWithCopyWarning: \n",
      "A value is trying to be set on a copy of a slice from a DataFrame\n",
      "\n",
      "See the caveats in the documentation: https://pandas.pydata.org/pandas-docs/stable/user_guide/indexing.html#returning-a-view-versus-a-copy\n",
      "  \n"
     ]
    }
   ],
   "source": [
    "general_column = 'fat_100g'\n",
    "\n",
    "partial_columns = ['saturated-fat_100g', \n",
    "                   'monounsaturated-fat_100g', \n",
    "                   'polyunsaturated-fat_100g'\n",
    "                  ]\n",
    "\n",
    "for partial_column in partial_columns:\n",
    "    anomaly = (df[partial_column] > df[general_column])\n",
    "    print(partial_column, ':', anomaly.sum(), '\\n')\n",
    "    if anomaly.sum():\n",
    "        print(df[[general_column, partial_column]][anomaly].head(nb_exemples))\n",
    "        print('\\n')\n",
    "        df[column][anomaly] = np.nan"
   ]
  },
  {
   "cell_type": "markdown",
   "id": "9578636e",
   "metadata": {},
   "source": [
    "### Check column completion again"
   ]
  },
  {
   "cell_type": "code",
   "execution_count": 34,
   "id": "0f0f671d",
   "metadata": {
    "scrolled": false
   },
   "outputs": [
    {
     "name": "stdout",
     "output_type": "stream",
     "text": [
      "(320639, 155) \n",
      "\n",
      "column_name : nb_values  (percentage_of_completion) \n",
      "\n",
      "\n",
      "code : 320638  (99%)\n",
      "\n",
      "url : 320638  (99%)\n",
      "\n",
      "creator : 320637  (99%)\n",
      "\n",
      "created_t : 320639  (100%)\n",
      "\n",
      "created_datetime : 320637  (99%)\n",
      "\n",
      "last_modified_t : 320639  (100%)\n",
      "\n",
      "last_modified_datetime : 320639  (100%)\n",
      "\n",
      "product_name : 302883  (94%)\n",
      "\n",
      "generic_name : 52768  (16%)\n",
      "\n",
      "quantity : 104787  (32%)\n",
      "\n",
      "packaging : 78946  (24%)\n",
      "\n",
      "packaging_tags : 78947  (24%)\n",
      "\n",
      "brands : 292267  (91%)\n",
      "\n",
      "categories : 84375  (26%)\n",
      "\n",
      "categories_tags : 84374  (26%)\n",
      "\n",
      "categories_fr : 84375  (26%)\n",
      "\n",
      "origins : 22166  (6%)\n",
      "\n",
      "origins_tags : 22129  (6%)\n",
      "\n",
      "manufacturing_places : 36473  (11%)\n",
      "\n",
      "manufacturing_places_tags : 36467  (11%)\n",
      "\n",
      "labels : 46546  (14%)\n",
      "\n",
      "labels_tags : 46631  (14%)\n",
      "\n",
      "labels_fr : 46632  (14%)\n",
      "\n",
      "emb_codes : 29305  (9%)\n",
      "\n",
      "emb_codes_tags : 29301  (9%)\n",
      "\n",
      "first_packaging_code_geo : 18803  (5%)\n",
      "\n",
      "cities : 1  (0%)\n",
      "\n",
      "cities_tags : 20298  (6%)\n",
      "\n",
      "purchase_places : 58161  (18%)\n",
      "\n",
      "stores : 51692  (16%)\n",
      "\n",
      "countries_fr : 320359  (99%)\n",
      "\n",
      "ingredients_text : 248851  (77%)\n",
      "\n",
      "allergens : 28321  (8%)\n",
      "\n",
      "allergens_fr : 1  (0%)\n",
      "\n",
      "traces : 24328  (7%)\n",
      "\n",
      "traces_tags : 24326  (7%)\n",
      "\n",
      "traces_fr : 24327  (7%)\n",
      "\n",
      "serving_size : 211219  (65%)\n",
      "\n",
      "no_nutriments : 0  (0%)\n",
      "\n",
      "additives_n : 320639  (100%)\n",
      "\n",
      "additives : 154616  (48%)\n",
      "\n",
      "ingredients_from_palm_oil_n : 248850  (77%)\n",
      "\n",
      "ingredients_from_palm_oil : 0  (0%)\n",
      "\n",
      "ingredients_from_palm_oil_tags : 4835  (1%)\n",
      "\n",
      "ingredients_that_may_be_from_palm_oil_n : 248850  (77%)\n",
      "\n",
      "ingredients_that_may_be_from_palm_oil : 0  (0%)\n",
      "\n",
      "ingredients_that_may_be_from_palm_oil_tags : 11695  (3%)\n",
      "\n",
      "nutrition_grade_uk : 0  (0%)\n",
      "\n",
      "nutrition_grade_fr : 221147  (68%)\n",
      "\n",
      "pnns_groups_1 : 91498  (28%)\n",
      "\n",
      "pnns_groups_2 : 94475  (29%)\n",
      "\n",
      "states : 320615  (99%)\n",
      "\n",
      "states_tags : 320615  (99%)\n",
      "\n",
      "states_fr : 320615  (99%)\n",
      "\n",
      "main_category : 84351  (26%)\n",
      "\n",
      "main_category_fr : 84351  (26%)\n",
      "\n",
      "image_url : 75822  (23%)\n",
      "\n",
      "image_small_url : 75822  (23%)\n",
      "\n",
      "energy_100g : 260475  (81%)\n",
      "\n",
      "energy-from-fat_100g : 854  (0%)\n",
      "\n",
      "fat_100g : 243799  (76%)\n",
      "\n",
      "saturated-fat_100g : 229483  (71%)\n",
      "\n",
      "butyric-acid_100g : 0  (0%)\n",
      "\n",
      "caproic-acid_100g : 0  (0%)\n",
      "\n",
      "caprylic-acid_100g : 1  (0%)\n",
      "\n",
      "capric-acid_100g : 2  (0%)\n",
      "\n",
      "lauric-acid_100g : 4  (0%)\n",
      "\n",
      "myristic-acid_100g : 1  (0%)\n",
      "\n",
      "palmitic-acid_100g : 1  (0%)\n",
      "\n",
      "stearic-acid_100g : 1  (0%)\n",
      "\n",
      "arachidic-acid_100g : 2  (0%)\n",
      "\n",
      "behenic-acid_100g : 1  (0%)\n",
      "\n",
      "lignoceric-acid_100g : 0  (0%)\n",
      "\n",
      "cerotic-acid_100g : 0  (0%)\n",
      "\n",
      "montanic-acid_100g : 1  (0%)\n",
      "\n",
      "melissic-acid_100g : 0  (0%)\n",
      "\n",
      "monounsaturated-fat_100g : 22820  (7%)\n",
      "\n",
      "polyunsaturated-fat_100g : 22857  (7%)\n",
      "\n",
      "omega-3-fat_100g : 841  (0%)\n",
      "\n",
      "alpha-linolenic-acid_100g : 186  (0%)\n",
      "\n",
      "eicosapentaenoic-acid_100g : 34  (0%)\n",
      "\n",
      "docosahexaenoic-acid_100g : 56  (0%)\n",
      "\n",
      "omega-6-fat_100g : 188  (0%)\n",
      "\n",
      "linoleic-acid_100g : 149  (0%)\n",
      "\n",
      "arachidonic-acid_100g : 8  (0%)\n",
      "\n",
      "gamma-linolenic-acid_100g : 2  (0%)\n",
      "\n",
      "dihomo-gamma-linolenic-acid_100g : 1  (0%)\n",
      "\n",
      "omega-9-fat_100g : 21  (0%)\n",
      "\n",
      "oleic-acid_100g : 13  (0%)\n",
      "\n",
      "elaidic-acid_100g : 0  (0%)\n",
      "\n",
      "gondoic-acid_100g : 0  (0%)\n",
      "\n",
      "mead-acid_100g : 0  (0%)\n",
      "\n",
      "erucic-acid_100g : 0  (0%)\n",
      "\n",
      "nervonic-acid_100g : 0  (0%)\n",
      "\n",
      "trans-fat_100g : 143236  (44%)\n",
      "\n",
      "cholesterol_100g : 144032  (44%)\n",
      "\n",
      "carbohydrates_100g : 243481  (75%)\n",
      "\n",
      "sugars_100g : 244876  (76%)\n",
      "\n",
      "sucrose_100g : 72  (0%)\n",
      "\n",
      "glucose_100g : 26  (0%)\n",
      "\n",
      "fructose_100g : 38  (0%)\n",
      "\n",
      "lactose_100g : 262  (0%)\n",
      "\n",
      "maltose_100g : 4  (0%)\n",
      "\n",
      "maltodextrins_100g : 11  (0%)\n",
      "\n",
      "starch_100g : 266  (0%)\n",
      "\n",
      "polyols_100g : 414  (0%)\n",
      "\n",
      "fiber_100g : 200814  (62%)\n",
      "\n",
      "proteins_100g : 259819  (81%)\n",
      "\n",
      "casein_100g : 27  (0%)\n",
      "\n",
      "serum-proteins_100g : 16  (0%)\n",
      "\n",
      "nucleotides_100g : 9  (0%)\n",
      "\n",
      "salt_100g : 255262  (79%)\n",
      "\n",
      "alcohol_100g : 4128  (1%)\n",
      "\n",
      "vitamin-a_100g : 137493  (42%)\n",
      "\n",
      "beta-carotene_100g : 34  (0%)\n",
      "\n",
      "vitamin-d_100g : 7049  (2%)\n",
      "\n",
      "vitamin-e_100g : 1339  (0%)\n",
      "\n",
      "vitamin-k_100g : 917  (0%)\n",
      "\n",
      "vitamin-c_100g : 140801  (43%)\n",
      "\n",
      "vitamin-b1_100g : 11149  (3%)\n",
      "\n",
      "vitamin-b2_100g : 10811  (3%)\n",
      "\n",
      "vitamin-pp_100g : 11707  (3%)\n",
      "\n",
      "vitamin-b6_100g : 6776  (2%)\n",
      "\n",
      "vitamin-b9_100g : 5238  (1%)\n",
      "\n",
      "folates_100g : 3041  (0%)\n",
      "\n",
      "vitamin-b12_100g : 5292  (1%)\n",
      "\n",
      "biotin_100g : 308  (0%)\n",
      "\n",
      "pantothenic-acid_100g : 2454  (0%)\n",
      "\n",
      "silica_100g : 38  (0%)\n",
      "\n",
      "bicarbonate_100g : 81  (0%)\n",
      "\n",
      "potassium_100g : 24739  (7%)\n",
      "\n",
      "chloride_100g : 158  (0%)\n",
      "\n",
      "calcium_100g : 140989  (43%)\n",
      "\n",
      "phosphorus_100g : 5844  (1%)\n",
      "\n",
      "iron_100g : 140399  (43%)\n",
      "\n",
      "magnesium_100g : 6252  (1%)\n",
      "\n",
      "zinc_100g : 3927  (1%)\n",
      "\n",
      "copper_100g : 2106  (0%)\n",
      "\n",
      "manganese_100g : 1619  (0%)\n",
      "\n",
      "fluoride_100g : 79  (0%)\n",
      "\n",
      "selenium_100g : 1167  (0%)\n",
      "\n",
      "chromium_100g : 20  (0%)\n",
      "\n",
      "molybdenum_100g : 11  (0%)\n",
      "\n",
      "iodine_100g : 259  (0%)\n",
      "\n",
      "caffeine_100g : 78  (0%)\n",
      "\n",
      "taurine_100g : 29  (0%)\n",
      "\n",
      "ph_100g : 49  (0%)\n",
      "\n",
      "fruits-vegetables-nuts_100g : 3035  (0%)\n",
      "\n",
      "collagen-meat-protein-ratio_100g : 165  (0%)\n",
      "\n",
      "cocoa_100g : 948  (0%)\n",
      "\n",
      "chlorophyl_100g : 0  (0%)\n",
      "\n",
      "carbon-footprint_100g : 268  (0%)\n",
      "\n",
      "nutrition-score-fr_100g : 221147  (68%)\n",
      "\n",
      "glycemic-index_100g : 0  (0%)\n",
      "\n",
      "water-hardness_100g : 0  (0%)\n",
      "\n"
     ]
    }
   ],
   "source": [
    "print(df.shape, '\\n')\n",
    "\n",
    "# make dict with nb values and percentage completion of each column\n",
    "\n",
    "completion_dict = {}\n",
    "for column in df.columns:\n",
    "    nb_values = df[column].notna().sum()\n",
    "    percent = 100 * nb_values / df.shape[0]\n",
    "    completion_dict[column] = [nb_values, percent]\n",
    "\n",
    "    \n",
    "# shows percentage of completion for each column    \n",
    "\n",
    "print('column_name : nb_values  (percentage_of_completion)', '\\n\\n')\n",
    "for column in completion_dict:\n",
    "    nb_values = completion_dict[column][0]\n",
    "    percent = completion_dict[column][1]\n",
    "    print(f'{column} : {nb_values}  ({int(percent)}%)')\n",
    "    print()"
   ]
  },
  {
   "cell_type": "markdown",
   "id": "85b9db4e",
   "metadata": {},
   "source": [
    "### Drop all columns under a percentage threshold"
   ]
  },
  {
   "cell_type": "code",
   "execution_count": 35,
   "id": "6868460d",
   "metadata": {},
   "outputs": [
    {
     "name": "stdout",
     "output_type": "stream",
     "text": [
      "(320639, 81)\n"
     ]
    }
   ],
   "source": [
    "threshold = 1\n",
    "\n",
    "drop_list = []\n",
    "for column in completion_dict:\n",
    "    nb_values = completion_dict[column][0]\n",
    "    percent = completion_dict[column][1]\n",
    "    if percent < threshold:\n",
    "        drop_list.append(column)\n",
    "\n",
    "# dropping all columns at once is way faster than calling df.drop() each time\n",
    "if drop_list:\n",
    "    df = df.drop(drop_list, axis=1)\n",
    "print(df.shape)"
   ]
  },
  {
   "cell_type": "markdown",
   "id": "b1c67820",
   "metadata": {},
   "source": [
    "###  Drop columns that will not be used in this project\n",
    "#### (this list should be changed if the goal  of the analysis is different)"
   ]
  },
  {
   "cell_type": "code",
   "execution_count": 36,
   "id": "01da43c6",
   "metadata": {},
   "outputs": [
    {
     "name": "stdout",
     "output_type": "stream",
     "text": [
      "cities\n",
      "\n",
      " (320639, 45)\n"
     ]
    }
   ],
   "source": [
    "columns_to_drop = ['code', \n",
    "                   'url', \n",
    "                   'creator', \n",
    "                   'created_t', \n",
    "                   'created_datetime', \n",
    "                   'last_modified_t', \n",
    "                   'last_modified_datetime', \n",
    "                   'quantity', \n",
    "                   'packaging', \n",
    "                   'packaging_tags', \n",
    "                   'origins', \n",
    "                   'origins_tags', \n",
    "                   'manufacturing_places', \n",
    "                   'manufacturing_places_tags', \n",
    "                   'labels', \n",
    "                   'labels_tags', \n",
    "                   'labels_fr', \n",
    "                   'emb_codes', \n",
    "                   'emb_codes_tags', \n",
    "                   'first_packaging_code_geo', \n",
    "                   'cities', \n",
    "                   'cities_tags', \n",
    "                   'purchase_places', \n",
    "                   'stores', \n",
    "                   'ingredients_text', \n",
    "                   'allergens', \n",
    "                   'traces', \n",
    "                   'traces_tags', \n",
    "                   'traces_fr', \n",
    "                   'serving_size', \n",
    "                   'ingredients_from_palm_oil_tags', \n",
    "                   'ingredients_that_may_be_from_palm_oil_tags', \n",
    "                   'states', \n",
    "                   'states_tags', \n",
    "                   'states_fr', \n",
    "                   'image_url', \n",
    "                   'image_small_url', \n",
    "                  ]\n",
    "\n",
    "# take care of the already dropped columns\n",
    "not_exist = []\n",
    "for column in columns_to_drop:\n",
    "    if column not in df.columns:\n",
    "        print(column)\n",
    "        not_exist.append(column)\n",
    "for column in not_exist:\n",
    "    columns_to_drop.remove(column)\n",
    "\n",
    "df = df.drop(columns_to_drop, axis=1)\n",
    "print('\\n', df.shape)"
   ]
  },
  {
   "cell_type": "markdown",
   "id": "82267b4c",
   "metadata": {},
   "source": [
    "### Save result as csv file"
   ]
  },
  {
   "cell_type": "code",
   "execution_count": 37,
   "id": "b666fc0d",
   "metadata": {},
   "outputs": [
    {
     "name": "stdout",
     "output_type": "stream",
     "text": [
      "D:\\OpenClassrooms\\projet_3\\clean_data.csv\n"
     ]
    }
   ],
   "source": [
    "base = r\"D:\\OpenClassrooms\\projet_3\"\n",
    "name = \"clean_data\"\n",
    "\n",
    "save_path = os.path.join(base, name + '.csv')\n",
    "print(save_path)\n",
    "\n",
    "if not test_mode:\n",
    "    df.to_csv(save_path, index=False)\n"
   ]
  },
  {
   "cell_type": "markdown",
   "id": "8e49a058",
   "metadata": {},
   "source": [
    "#### Test if the saved dataframe is readable (the separator is now \",\")"
   ]
  },
  {
   "cell_type": "code",
   "execution_count": 38,
   "id": "69dd407d",
   "metadata": {},
   "outputs": [
    {
     "name": "stdout",
     "output_type": "stream",
     "text": [
      "(320639, 45)\n"
     ]
    }
   ],
   "source": [
    "test = pd.read_csv(save_path, sep=',')\n",
    "print(test.shape)"
   ]
  }
 ],
 "metadata": {
  "kernelspec": {
   "display_name": "Python 3 (ipykernel)",
   "language": "python",
   "name": "python3"
  },
  "language_info": {
   "codemirror_mode": {
    "name": "ipython",
    "version": 3
   },
   "file_extension": ".py",
   "mimetype": "text/x-python",
   "name": "python",
   "nbconvert_exporter": "python",
   "pygments_lexer": "ipython3",
   "version": "3.7.4"
  }
 },
 "nbformat": 4,
 "nbformat_minor": 5
}
